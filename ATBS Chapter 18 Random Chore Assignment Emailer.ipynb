{
 "cells": [
  {
   "cell_type": "markdown",
   "metadata": {},
   "source": [
    "# [Instructions for this project](https://automatetheboringstuff.com/2e/chapter18/)"
   ]
  },
  {
   "cell_type": "code",
   "execution_count": null,
   "metadata": {},
   "outputs": [],
   "source": [
    "# Practice project: Random Chore Assignment Emailer\n",
    "\n",
    "# Import libraries\n",
    "import smtplib, pyinputplus as pyip\n",
    "\n",
    "# Make lists\n",
    "chores = ['dishes', 'bathroom', 'vacuum', 'walk dog']\n",
    "emails = ['siblingone@example.com','siblingtwo@example.com','siblingthree@example.com']\n",
    "\n",
    "# Define email send function\n",
    "def sendEmail(from_Addr, to_Addr, body):\n",
    "    domain = from_Addr[from_Addr.index('@')+1:-4] # uses the charcacters between the \"@\" and \".com\" in sender addres to get domain for smtp \n",
    "    smtpObj = smtplib.SMTP(f'smtp.{domain}.com', 587)\n",
    "    \n",
    "    smtpObj.ehlo()\n",
    "    smtpObjstarttls()\n",
    "    \n",
    "    # Ask user to input password to pass to login\n",
    "    password = pyip.inputStr(prompt = 'Enter password: ')\n",
    "    smtpObj.login(from_Addr, password)\n",
    "    \n",
    "    print('Sending email to %s...' % email)\n",
    "    \n",
    "    sendmailStatus = smtpObj.sendmail(from_Addr, password, to_Addr, body)\n",
    "    \n",
    "    if sendmailStatus != {}:\n",
    "        print(f'There was a problem sending email to: {to_Addr}.')\n",
    "    \n",
    "    smtpObj.quit()    \n",
    "\n",
    "# Define function that takes sender address, email and chore lists as arguments\n",
    "def assignChores:(from_Addr, emailList, choreList):     \n",
    "\n",
    "    # For each person in the list\n",
    "    for assignee in emailList:\n",
    "        \n",
    "        # Assign a chore\n",
    "        randomChore = random.choice(choreList)\n",
    "        \n",
    "        # Remove the chore from chores\n",
    "        choreList.remove(randomChore)    # this chore is now taken, so remove it\n",
    "\n",
    "        # Populate email body\n",
    "        body = f'Subject: You have chores!\\n Hello, you have been assigned chore:{randomChore}.Thank you!'\n",
    "        \n",
    "        # Send chore assignment email\n",
    "        sendEmail(from_Addr, assignee, body)\n",
    "\n",
    "    # Print finished message\n",
    "    print('Chores assigned!')"
   ]
  }
 ],
 "metadata": {
  "kernelspec": {
   "display_name": "ibm_project",
   "language": "python",
   "name": "ibm_project"
  },
  "language_info": {
   "codemirror_mode": {
    "name": "ipython",
    "version": 3
   },
   "file_extension": ".py",
   "mimetype": "text/x-python",
   "name": "python",
   "nbconvert_exporter": "python",
   "pygments_lexer": "ipython3",
   "version": "3.7.9"
  }
 },
 "nbformat": 4,
 "nbformat_minor": 4
}
